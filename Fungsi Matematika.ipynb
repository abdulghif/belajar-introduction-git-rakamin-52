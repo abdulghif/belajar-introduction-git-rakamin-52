{
 "cells": [
  {
   "cell_type": "markdown",
   "id": "39bea319-c18c-466f-80ac-ae25d05e8cca",
   "metadata": {},
   "source": [
    "# Fungsi Penjumlahan"
   ]
  },
  {
   "cell_type": "code",
   "execution_count": 1,
   "id": "e925160e-2755-40e5-b0aa-f10745d67aea",
   "metadata": {},
   "outputs": [],
   "source": [
    "def fungsi_penjumlahan(a,b):\n",
    "    return a + b"
   ]
  },
  {
   "cell_type": "code",
   "execution_count": 2,
   "id": "6c1637de-85f3-46fe-97fa-e132a6e3156a",
   "metadata": {},
   "outputs": [
    {
     "data": {
      "text/plain": [
       "21"
      ]
     },
     "execution_count": 2,
     "metadata": {},
     "output_type": "execute_result"
    }
   ],
   "source": [
    "fungsi_penjumlahan(10,11)"
   ]
  },
  {
   "cell_type": "markdown",
   "id": "d7d63f70-5392-40a4-96bf-aca376924102",
   "metadata": {},
   "source": [
    "# Fungsi Menghitung Luas Lingkaran"
   ]
  },
  {
   "cell_type": "code",
   "execution_count": 6,
   "id": "a453bd4c-3f01-4d74-a5e1-7e2487419e55",
   "metadata": {},
   "outputs": [],
   "source": [
    "import math\n",
    "def fungsi_luas_lingkaran(r):\n",
    "    pi = math.pi\n",
    "    luas_lingkaran = pi * r ** 2\n",
    "    return luas_lingkaran"
   ]
  },
  {
   "cell_type": "code",
   "execution_count": 8,
   "id": "11f180b4-5c31-46ac-b1a4-23aac806a4e0",
   "metadata": {},
   "outputs": [
    {
     "data": {
      "text/plain": [
       "153.93804002589985"
      ]
     },
     "execution_count": 8,
     "metadata": {},
     "output_type": "execute_result"
    }
   ],
   "source": [
    "fungsi_luas_lingkaran(7)"
   ]
  },
  {
   "cell_type": "code",
   "execution_count": null,
   "id": "debc58fc-77f6-4b3d-81c2-ae3e6a4d341c",
   "metadata": {},
   "outputs": [],
   "source": []
  }
 ],
 "metadata": {
  "kernelspec": {
   "display_name": "Python (tryenv)",
   "language": "python",
   "name": "tryenv"
  },
  "language_info": {
   "codemirror_mode": {
    "name": "ipython",
    "version": 3
   },
   "file_extension": ".py",
   "mimetype": "text/x-python",
   "name": "python",
   "nbconvert_exporter": "python",
   "pygments_lexer": "ipython3",
   "version": "3.9.13"
  }
 },
 "nbformat": 4,
 "nbformat_minor": 5
}
