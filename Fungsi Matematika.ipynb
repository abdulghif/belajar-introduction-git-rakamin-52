{
 "cells": [
  {
   "cell_type": "markdown",
   "id": "39bea319-c18c-466f-80ac-ae25d05e8cca",
   "metadata": {},
   "source": [
    "# Fungsi Penjumlahan"
   ]
  },
  {
   "cell_type": "code",
   "execution_count": 6,
   "id": "e925160e-2755-40e5-b0aa-f10745d67aea",
   "metadata": {},
   "outputs": [],
   "source": [
    "from hello_git import fungsi_penambahan"
   ]
  },
  {
   "cell_type": "code",
   "execution_count": 7,
   "id": "6c1637de-85f3-46fe-97fa-e132a6e3156a",
   "metadata": {},
   "outputs": [
    {
     "data": {
      "text/plain": [
       "21"
      ]
     },
     "execution_count": 7,
     "metadata": {},
     "output_type": "execute_result"
    }
   ],
   "source": [
    "fungsi_penambahan(10,11)"
   ]
  },
  {
   "cell_type": "markdown",
   "id": "d7d63f70-5392-40a4-96bf-aca376924102",
   "metadata": {},
   "source": [
    "# Fungsi Menghitung Luas Lingkaran"
   ]
  },
  {
   "cell_type": "code",
   "execution_count": 8,
   "id": "a453bd4c-3f01-4d74-a5e1-7e2487419e55",
   "metadata": {},
   "outputs": [],
   "source": [
    "import math\n",
    "def fungsi_luas_lingkaran(r):\n",
    "    pi = math.pi\n",
    "    luas_lingkaran = pi * r ** 2\n",
    "    return luas_lingkaran"
   ]
  },
  {
   "cell_type": "code",
   "execution_count": 9,
   "id": "11f180b4-5c31-46ac-b1a4-23aac806a4e0",
   "metadata": {},
   "outputs": [
    {
     "data": {
      "text/plain": [
       "153.93804002589985"
      ]
     },
     "execution_count": 9,
     "metadata": {},
     "output_type": "execute_result"
    }
   ],
   "source": [
    "fungsi_luas_lingkaran(7)"
   ]
  },
  {
   "cell_type": "markdown",
   "id": "cdc9c5f9-d643-4e87-9537-684f8966419c",
   "metadata": {},
   "source": [
    "# Fungsi Pembagian di Hello Git"
   ]
  },
  {
   "cell_type": "code",
   "execution_count": 10,
   "id": "debc58fc-77f6-4b3d-81c2-ae3e6a4d341c",
   "metadata": {},
   "outputs": [],
   "source": [
    "from hello_git import fungsi_pembagian"
   ]
  },
  {
   "cell_type": "code",
   "execution_count": 11,
   "id": "73bace32-3770-49c6-84da-62e96004cf89",
   "metadata": {},
   "outputs": [
    {
     "name": "stdout",
     "output_type": "stream",
     "text": [
      "Denominator berangka 0 sehingga pembagian akan error\n"
     ]
    }
   ],
   "source": [
    "fungsi_pembagian(10,0)"
   ]
  },
  {
   "cell_type": "code",
   "execution_count": 12,
   "id": "e2a85651-866d-4a99-b78d-5e56ee627ff2",
   "metadata": {},
   "outputs": [
    {
     "data": {
      "text/plain": [
       "2.0"
      ]
     },
     "execution_count": 12,
     "metadata": {},
     "output_type": "execute_result"
    }
   ],
   "source": [
    "fungsi_pembagian(10,5)"
   ]
  }
 ],
 "metadata": {
  "kernelspec": {
   "display_name": "Python (tryenv)",
   "language": "python",
   "name": "tryenv"
  },
  "language_info": {
   "codemirror_mode": {
    "name": "ipython",
    "version": 3
   },
   "file_extension": ".py",
   "mimetype": "text/x-python",
   "name": "python",
   "nbconvert_exporter": "python",
   "pygments_lexer": "ipython3",
   "version": "3.9.13"
  }
 },
 "nbformat": 4,
 "nbformat_minor": 5
}
